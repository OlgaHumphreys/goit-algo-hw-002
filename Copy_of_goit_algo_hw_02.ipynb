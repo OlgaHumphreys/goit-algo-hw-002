{
  "nbformat": 4,
  "nbformat_minor": 0,
  "metadata": {
    "colab": {
      "provenance": [],
      "authorship_tag": "ABX9TyOI2Xn1B8FZ/vFyFFiPY1nu",
      "include_colab_link": true
    },
    "kernelspec": {
      "name": "python3",
      "display_name": "Python 3"
    },
    "language_info": {
      "name": "python"
    }
  },
  "cells": [
    {
      "cell_type": "markdown",
      "metadata": {
        "id": "view-in-github",
        "colab_type": "text"
      },
      "source": [
        "<a href=\"https://colab.research.google.com/github/OlgaHumphreys/goit-algo-hw-002/blob/main/Copy_of_goit_algo_hw_02.ipynb\" target=\"_parent\"><img src=\"https://colab.research.google.com/assets/colab-badge.svg\" alt=\"Open In Colab\"/></a>"
      ]
    },
    {
      "cell_type": "code",
      "source": [
        "import queue\n",
        "import threading\n",
        "import time\n",
        "import random\n",
        "\n",
        "request_queue = queue.Queue()\n",
        "\n",
        "def generate_request(request_id):\n",
        "    request = f\"Request-{request_id}\"\n",
        "    print(f\"Generated: {request}\")\n",
        "    request_queue.put(request)\n",
        "\n",
        "def process_request():\n",
        "    while True:\n",
        "        if not request_queue.empty():\n",
        "            request = request_queue.get()\n",
        "            print(f\"Processing: {request}\")\n",
        "            time.sleep(random.uniform(0.5, 1.5))\n",
        "            print(f\"Processed: {request}\")\n",
        "        else:\n",
        "            print(\"Queue is empty, waiting for new requests...\")\n",
        "            time.sleep(1)\n",
        "\n",
        "def main():\n",
        "    request_queue = queue.Queue()\n",
        "    request_id = 0\n",
        "\n",
        "    try:\n",
        "        while True:\n",
        "            generate_request(request_id)\n",
        "            request_id += 1\n",
        "            time.sleep(random.uniform(0.5, 2))\n",
        "    except KeyboardInterrupt:\n",
        "        stop_program = True\n",
        "        print(\"Stopping the program...\")\n",
        "\n",
        "if __name__ == \"__main__\":\n",
        "    main()\n"
      ],
      "metadata": {
        "colab": {
          "base_uri": "https://localhost:8080/"
        },
        "id": "p_KQsRn0wT3s",
        "outputId": "85afa189-6ab4-4e3d-cbb1-cdd61e39fa63"
      },
      "execution_count": 1,
      "outputs": [
        {
          "output_type": "stream",
          "name": "stdout",
          "text": [
            "Generated: Request-0\n",
            "Generated: Request-1\n",
            "Generated: Request-2\n",
            "Generated: Request-3\n",
            "Generated: Request-4\n",
            "Generated: Request-5\n",
            "Generated: Request-6\n",
            "Generated: Request-7\n",
            "Generated: Request-8\n",
            "Stopping the program...\n"
          ]
        }
      ]
    },
    {
      "cell_type": "code",
      "source": [
        "from collections import deque\n",
        "\n",
        "def test_true_palindrome():\n",
        "    assert is_palindrome.is_palindrome(\"A wooden door made from oak\") == True\n",
        "\n",
        "def test_false_palindrome():\n",
        "    assert is_palindrome.is_palindrome(\"A wooden door made from plastic\") == False\n",
        "\n",
        "def test_true_palindrome_with_punctuation():\n",
        "    assert is_palindrome.is_palindrome(\"Was it a traffic light or a dog I saw?\") == True\n",
        "\n",
        "def test_false_palindrome_with_punctuation():\n",
        "    assert is_palindrome.is_palindrome(\"No, it was a cat\") == False\n",
        "\n",
        "\n",
        "from collections import deque\n",
        "\n",
        "def is_palindrome(s):\n",
        "  deque_s = deque(c.lower() for c in s if c.isalnum())\n",
        "  while len(deque_s) > 1:\n",
        "    if deque_s.popleft() != deque_s.pop():\n",
        "      return False\n",
        "  return True\n",
        "\n",
        "print(is_palindrome(\"A wooden door made from oak\"))\n",
        "print(is_palindrome(\"A wooden door made from plastic\"))\n",
        "\n"
      ],
      "metadata": {
        "colab": {
          "base_uri": "https://localhost:8080/"
        },
        "id": "by3aWn4w_qJ8",
        "outputId": "f6017e01-d9ff-4b2c-dc33-4e130e8e135b"
      },
      "execution_count": 2,
      "outputs": [
        {
          "output_type": "stream",
          "name": "stdout",
          "text": [
            "False\n",
            "False\n"
          ]
        }
      ]
    }
  ]
}